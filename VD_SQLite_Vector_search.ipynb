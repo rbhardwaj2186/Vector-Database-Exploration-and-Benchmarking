{
  "nbformat": 4,
  "nbformat_minor": 0,
  "metadata": {
    "colab": {
      "provenance": []
    },
    "kernelspec": {
      "name": "python3",
      "display_name": "Python 3"
    },
    "language_info": {
      "name": "python"
    }
  },
  "cells": [
    {
      "cell_type": "markdown",
      "source": [
        "**SQLite Database**"
      ],
      "metadata": {
        "id": "w9sYYleOHO8j"
      }
    },
    {
      "cell_type": "code",
      "source": [
        "import sqlite3"
      ],
      "metadata": {
        "id": "HaUONGC3HV6X"
      },
      "execution_count": null,
      "outputs": []
    },
    {
      "cell_type": "code",
      "source": [
        "# create a connection to SQLite DB\n",
        "conn = sqlite3.connect(\"sample.db\")"
      ],
      "metadata": {
        "id": "V-YyrpudJVAK"
      },
      "execution_count": null,
      "outputs": []
    },
    {
      "cell_type": "code",
      "source": [
        "# create a cursor to help us execute the SQL commands\n",
        "cursor = conn.cursor()"
      ],
      "metadata": {
        "id": "bhNWlxUfJVCw"
      },
      "execution_count": null,
      "outputs": []
    },
    {
      "cell_type": "code",
      "source": [
        "# create a table\n",
        "# stocks : stock_code, stock_name\n",
        "\n",
        "cursor.execute(\n",
        "\"\"\"\n",
        "CREATE TABLE IF NOT EXISTS stocks (\n",
        "  stock_code INTEGER PRIMARY KEY,\n",
        "  stock_name TEXT NOT NULL\n",
        ")\n",
        "\"\"\"\n",
        ")\n"
      ],
      "metadata": {
        "colab": {
          "base_uri": "https://localhost:8080/"
        },
        "id": "7dECVIqHLeLx",
        "outputId": "28fe59c4-aa62-4a5a-9538-e247350a7217"
      },
      "execution_count": null,
      "outputs": [
        {
          "output_type": "execute_result",
          "data": {
            "text/plain": [
              "<sqlite3.Cursor at 0x7d7356b466c0>"
            ]
          },
          "metadata": {},
          "execution_count": 4
        }
      ]
    },
    {
      "cell_type": "code",
      "source": [
        "# insert some data\n",
        "cursor.execute(\n",
        "    \"INSERT INTO stocks (stock_name) VALUES (?)\", ('TESLA',)\n",
        ")\n",
        "\n"
      ],
      "metadata": {
        "colab": {
          "base_uri": "https://localhost:8080/"
        },
        "id": "54GqRraALePg",
        "outputId": "e014b62c-ba3d-416c-c691-75ac71fbaae7"
      },
      "execution_count": null,
      "outputs": [
        {
          "output_type": "execute_result",
          "data": {
            "text/plain": [
              "<sqlite3.Cursor at 0x7d7356b466c0>"
            ]
          },
          "metadata": {},
          "execution_count": 5
        }
      ]
    },
    {
      "cell_type": "code",
      "source": [
        "cursor.execute(\n",
        "    \"INSERT INTO stocks (stock_name) VALUES (?)\", ('Microsoft',)\n",
        ")\n"
      ],
      "metadata": {
        "colab": {
          "base_uri": "https://localhost:8080/"
        },
        "id": "IjT_RJdGJVFe",
        "outputId": "9fc139e9-cbd5-421f-fce6-77253a261188"
      },
      "execution_count": null,
      "outputs": [
        {
          "output_type": "execute_result",
          "data": {
            "text/plain": [
              "<sqlite3.Cursor at 0x7d7356b466c0>"
            ]
          },
          "metadata": {},
          "execution_count": 6
        }
      ]
    },
    {
      "cell_type": "code",
      "source": [
        "# select records\n",
        "\n",
        "cursor.execute(\"SELECT * FROM stocks\")"
      ],
      "metadata": {
        "colab": {
          "base_uri": "https://localhost:8080/"
        },
        "id": "PUsjQbt8JVIM",
        "outputId": "b6628b46-7ffb-4df0-b1b5-0f0fd51fdf81"
      },
      "execution_count": null,
      "outputs": [
        {
          "output_type": "execute_result",
          "data": {
            "text/plain": [
              "<sqlite3.Cursor at 0x7d7356b466c0>"
            ]
          },
          "metadata": {},
          "execution_count": 7
        }
      ]
    },
    {
      "cell_type": "code",
      "source": [
        "rows = cursor.fetchall()\n",
        "rows"
      ],
      "metadata": {
        "colab": {
          "base_uri": "https://localhost:8080/"
        },
        "id": "-5l9DtuuHWCq",
        "outputId": "1de56681-a971-42e4-e768-923107781fd8"
      },
      "execution_count": null,
      "outputs": [
        {
          "output_type": "execute_result",
          "data": {
            "text/plain": [
              "[(1, 'TESLA'), (2, 'Microsoft')]"
            ]
          },
          "metadata": {},
          "execution_count": 8
        }
      ]
    },
    {
      "cell_type": "code",
      "source": [
        "conn.commit()"
      ],
      "metadata": {
        "id": "UBiiU7azMf5X"
      },
      "execution_count": null,
      "outputs": []
    },
    {
      "cell_type": "code",
      "source": [
        "conn.close()"
      ],
      "metadata": {
        "id": "5-9dLzkhMf-B"
      },
      "execution_count": null,
      "outputs": []
    },
    {
      "cell_type": "markdown",
      "source": [
        "**Using SQLite as vector storage**"
      ],
      "metadata": {
        "id": "rVxrBcHcNtYD"
      }
    },
    {
      "cell_type": "code",
      "source": [
        "# vector = array of numbers -> numpy arrays -> [1.2, 2,5, 3,7]\n",
        "# store the information into a bytes format"
      ],
      "metadata": {
        "id": "jm96ipn2Mv8k"
      },
      "execution_count": null,
      "outputs": []
    },
    {
      "cell_type": "code",
      "source": [
        "import numpy as np"
      ],
      "metadata": {
        "id": "iwbtZ5u5Nxyu"
      },
      "execution_count": null,
      "outputs": []
    },
    {
      "cell_type": "code",
      "source": [
        "conn = sqlite3.connect(\"sample_vectors.db\")"
      ],
      "metadata": {
        "id": "LOgDEoQpNx1c"
      },
      "execution_count": null,
      "outputs": []
    },
    {
      "cell_type": "code",
      "source": [
        "cursor = conn.cursor()"
      ],
      "metadata": {
        "id": "6qocj_u1Nx4E"
      },
      "execution_count": null,
      "outputs": []
    },
    {
      "cell_type": "code",
      "source": [
        "cursor.execute(\n",
        "\"\"\"\n",
        "CREATE TABLE IF NOT EXISTS vectors (\n",
        "  vector_id INTEGER PRIMARY KEY,\n",
        "  vector BLOB NOT NULL\n",
        ")\n",
        "\"\"\"\n",
        ")"
      ],
      "metadata": {
        "colab": {
          "base_uri": "https://localhost:8080/"
        },
        "id": "rY7mAHPhNx7T",
        "outputId": "942f72a3-b94b-4a53-b657-b37c7ffb291b"
      },
      "execution_count": null,
      "outputs": [
        {
          "output_type": "execute_result",
          "data": {
            "text/plain": [
              "<sqlite3.Cursor at 0x7d7356bc3540>"
            ]
          },
          "metadata": {},
          "execution_count": 14
        }
      ]
    },
    {
      "cell_type": "code",
      "source": [
        "vect_tsla = np.array([1.3, 3.5, 2.2, 0.9])\n",
        "vect_msft = np.array([2.8, 1.6, 3.8, 2.2])"
      ],
      "metadata": {
        "id": "GNZKtZVrNymc"
      },
      "execution_count": null,
      "outputs": []
    },
    {
      "cell_type": "code",
      "source": [
        "type(vect_tsla)"
      ],
      "metadata": {
        "colab": {
          "base_uri": "https://localhost:8080/"
        },
        "id": "g9dCLPJyNypF",
        "outputId": "21732c19-0f64-439f-d6a5-9a326e9a6d3e"
      },
      "execution_count": null,
      "outputs": [
        {
          "output_type": "execute_result",
          "data": {
            "text/plain": [
              "numpy.ndarray"
            ]
          },
          "metadata": {},
          "execution_count": 17
        }
      ]
    },
    {
      "cell_type": "code",
      "source": [
        "vect_tsla.tobytes()"
      ],
      "metadata": {
        "colab": {
          "base_uri": "https://localhost:8080/"
        },
        "id": "5ijUKj2WRRUn",
        "outputId": "d26ff87a-0777-403b-f328-3c8cb2b62420"
      },
      "execution_count": null,
      "outputs": [
        {
          "output_type": "execute_result",
          "data": {
            "text/plain": [
              "b'\\xcd\\xcc\\xcc\\xcc\\xcc\\xcc\\xf4?\\x00\\x00\\x00\\x00\\x00\\x00\\x0c@\\x9a\\x99\\x99\\x99\\x99\\x99\\x01@\\xcd\\xcc\\xcc\\xcc\\xcc\\xcc\\xec?'"
            ]
          },
          "metadata": {},
          "execution_count": 18
        }
      ]
    },
    {
      "cell_type": "code",
      "source": [
        "cursor.execute(\"INSERT INTO vectors (vector) VALUES (?)\", (sqlite3.Binary(vect_tsla.tobytes()),))"
      ],
      "metadata": {
        "colab": {
          "base_uri": "https://localhost:8080/"
        },
        "id": "cwTK29jDNysC",
        "outputId": "7b7c917f-eff8-46e2-ca08-786afaa55734"
      },
      "execution_count": null,
      "outputs": [
        {
          "output_type": "execute_result",
          "data": {
            "text/plain": [
              "<sqlite3.Cursor at 0x7d7356bc3540>"
            ]
          },
          "metadata": {},
          "execution_count": 19
        }
      ]
    },
    {
      "cell_type": "code",
      "source": [
        "cursor.execute(\"INSERT INTO vectors (vector) VALUES (?)\", (sqlite3.Binary(vect_msft.tobytes()),))"
      ],
      "metadata": {
        "colab": {
          "base_uri": "https://localhost:8080/"
        },
        "id": "waaf6UiaNy5L",
        "outputId": "d88dfcee-581e-4804-e8e3-137ea92612c0"
      },
      "execution_count": null,
      "outputs": [
        {
          "output_type": "execute_result",
          "data": {
            "text/plain": [
              "<sqlite3.Cursor at 0x7d7356bc3540>"
            ]
          },
          "metadata": {},
          "execution_count": 20
        }
      ]
    },
    {
      "cell_type": "code",
      "source": [
        "cursor.execute(\"SELECT * FROM vectors\")"
      ],
      "metadata": {
        "colab": {
          "base_uri": "https://localhost:8080/"
        },
        "id": "21g_HGkiNy7z",
        "outputId": "a4a616f6-4f5e-407a-e804-5ca27eeb346b"
      },
      "execution_count": null,
      "outputs": [
        {
          "output_type": "execute_result",
          "data": {
            "text/plain": [
              "<sqlite3.Cursor at 0x7d7356bc3540>"
            ]
          },
          "metadata": {},
          "execution_count": 47
        }
      ]
    },
    {
      "cell_type": "code",
      "source": [
        "rows = cursor.fetchall()\n",
        "rows"
      ],
      "metadata": {
        "colab": {
          "base_uri": "https://localhost:8080/"
        },
        "id": "qXCf9V9nNYWQ",
        "outputId": "32c2ede3-48c9-492f-bf20-fd6f9beee131"
      },
      "execution_count": null,
      "outputs": [
        {
          "output_type": "execute_result",
          "data": {
            "text/plain": [
              "[(1,\n",
              "  b'\\xcd\\xcc\\xcc\\xcc\\xcc\\xcc\\xf4?\\x00\\x00\\x00\\x00\\x00\\x00\\x0c@\\x9a\\x99\\x99\\x99\\x99\\x99\\x01@\\xcd\\xcc\\xcc\\xcc\\xcc\\xcc\\xec?'),\n",
              " (2,\n",
              "  b'ffffff\\x06@\\x9a\\x99\\x99\\x99\\x99\\x99\\xf9?ffffff\\x0e@\\x9a\\x99\\x99\\x99\\x99\\x99\\x01@')]"
            ]
          },
          "metadata": {},
          "execution_count": 48
        }
      ]
    },
    {
      "cell_type": "code",
      "source": [
        "# Deserialization"
      ],
      "metadata": {
        "id": "NFWcrwrLNYZR"
      },
      "execution_count": null,
      "outputs": []
    },
    {
      "cell_type": "code",
      "source": [
        "rows"
      ],
      "metadata": {
        "colab": {
          "base_uri": "https://localhost:8080/"
        },
        "id": "yjbI3x0-Th_R",
        "outputId": "bc14e6ed-a962-4dc8-8141-ff063744ec72"
      },
      "execution_count": null,
      "outputs": [
        {
          "output_type": "execute_result",
          "data": {
            "text/plain": [
              "[(1,\n",
              "  b'\\xcd\\xcc\\xcc\\xcc\\xcc\\xcc\\xf4?\\x00\\x00\\x00\\x00\\x00\\x00\\x0c@\\x9a\\x99\\x99\\x99\\x99\\x99\\x01@\\xcd\\xcc\\xcc\\xcc\\xcc\\xcc\\xec?'),\n",
              " (2,\n",
              "  b'ffffff\\x06@\\x9a\\x99\\x99\\x99\\x99\\x99\\xf9?ffffff\\x0e@\\x9a\\x99\\x99\\x99\\x99\\x99\\x01@')]"
            ]
          },
          "metadata": {},
          "execution_count": 51
        }
      ]
    },
    {
      "cell_type": "code",
      "source": [
        "# np.frombuffer"
      ],
      "metadata": {
        "id": "Jf7NSKdwNYcU"
      },
      "execution_count": null,
      "outputs": []
    },
    {
      "cell_type": "code",
      "source": [
        "v = np.frombuffer(rows[0][1], dtype=np.float64)\n",
        "v"
      ],
      "metadata": {
        "colab": {
          "base_uri": "https://localhost:8080/"
        },
        "id": "HYh7v7tQNYkH",
        "outputId": "7155723f-670e-41c8-8b26-a03b8317ff1b"
      },
      "execution_count": null,
      "outputs": [
        {
          "output_type": "execute_result",
          "data": {
            "text/plain": [
              "array([1.3, 3.5, 2.2, 0.9])"
            ]
          },
          "metadata": {},
          "execution_count": 58
        }
      ]
    },
    {
      "cell_type": "code",
      "source": [
        "vectors = []\n",
        "for row in rows:\n",
        "  v = np.frombuffer(row[1], dtype=np.float64)\n",
        "  vectors.append(v)"
      ],
      "metadata": {
        "id": "N_gehsKSNYm4"
      },
      "execution_count": null,
      "outputs": []
    },
    {
      "cell_type": "code",
      "source": [
        "vectors"
      ],
      "metadata": {
        "colab": {
          "base_uri": "https://localhost:8080/"
        },
        "id": "ihgKCz8IVKgU",
        "outputId": "d55399fa-a66c-4feb-af08-820186cb28fc"
      },
      "execution_count": null,
      "outputs": [
        {
          "output_type": "execute_result",
          "data": {
            "text/plain": [
              "[array([1.3, 3.5, 2.2, 0.9]), array([2.8, 1.6, 3.8, 2.2])]"
            ]
          },
          "metadata": {},
          "execution_count": 61
        }
      ]
    },
    {
      "cell_type": "code",
      "source": [
        "# Find nearest vector"
      ],
      "metadata": {
        "id": "T09WJlTHVKl4"
      },
      "execution_count": null,
      "outputs": []
    },
    {
      "cell_type": "code",
      "source": [
        "q_vector = np.array([3.5, 2.2, 3.5, 5.5])"
      ],
      "metadata": {
        "id": "UVhmIatiWNCn"
      },
      "execution_count": null,
      "outputs": []
    },
    {
      "cell_type": "code",
      "source": [
        "cursor.execute(\"\"\"\n",
        "SELECT vector FROM vectors ORDER BY abs(vector - ?) DESC\n",
        "\"\"\", (sqlite3.Binary(q_vector.tobytes()),))"
      ],
      "metadata": {
        "colab": {
          "base_uri": "https://localhost:8080/"
        },
        "id": "F4kebnlmxChe",
        "outputId": "1d3a657f-e549-4cd0-9114-efdcd0deda32"
      },
      "execution_count": null,
      "outputs": [
        {
          "output_type": "execute_result",
          "data": {
            "text/plain": [
              "<sqlite3.Cursor at 0x7d7356bc3540>"
            ]
          },
          "metadata": {},
          "execution_count": 86
        }
      ]
    },
    {
      "cell_type": "code",
      "source": [
        "res = cursor.fetchone()"
      ],
      "metadata": {
        "id": "1jvmliaxWNFO"
      },
      "execution_count": null,
      "outputs": []
    },
    {
      "cell_type": "code",
      "source": [
        "res"
      ],
      "metadata": {
        "colab": {
          "base_uri": "https://localhost:8080/"
        },
        "id": "Z0644Wpfxv8P",
        "outputId": "5c120d3f-adf7-4041-f8ac-a6c00781d9b1"
      },
      "execution_count": null,
      "outputs": [
        {
          "output_type": "execute_result",
          "data": {
            "text/plain": [
              "(b'\\xcd\\xcc\\xcc\\xcc\\xcc\\xcc\\xf4?\\x00\\x00\\x00\\x00\\x00\\x00\\x0c@\\x9a\\x99\\x99\\x99\\x99\\x99\\x01@\\xcd\\xcc\\xcc\\xcc\\xcc\\xcc\\xec?',)"
            ]
          },
          "metadata": {},
          "execution_count": 80
        }
      ]
    },
    {
      "cell_type": "code",
      "source": [
        "np.frombuffer(res[0], dtype=np.float64)"
      ],
      "metadata": {
        "colab": {
          "base_uri": "https://localhost:8080/"
        },
        "id": "o5KYYmZwxwEu",
        "outputId": "73cd7879-76c9-4ae7-c725-68de0d8d36ff"
      },
      "execution_count": null,
      "outputs": [
        {
          "output_type": "execute_result",
          "data": {
            "text/plain": [
              "array([1.3, 3.5, 2.2, 0.9])"
            ]
          },
          "metadata": {},
          "execution_count": 88
        }
      ]
    },
    {
      "cell_type": "code",
      "source": [],
      "metadata": {
        "id": "EEWdoGqLx2Ld"
      },
      "execution_count": null,
      "outputs": []
    }
  ]
}